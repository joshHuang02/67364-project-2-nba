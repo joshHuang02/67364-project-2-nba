{
 "cells": [
  {
   "cell_type": "code",
   "execution_count": 1,
   "metadata": {},
   "outputs": [],
   "source": [
    "import pandas as pd\n"
   ]
  },
  {
   "cell_type": "code",
   "execution_count": 2,
   "metadata": {},
   "outputs": [
    {
     "name": "stderr",
     "output_type": "stream",
     "text": [
      "/var/folders/j4/xht4swnx3v38mbt0w75bjqs40000gn/T/ipykernel_61842/3740271414.py:1: DtypeWarning: Columns (6) have mixed types. Specify dtype option on import or set low_memory=False.\n",
      "  game_details = pd.read_csv('nba_games/games_details.csv')\n"
     ]
    }
   ],
   "source": [
    "game_details = pd.read_csv('nba_games/games_details.csv')\n",
    "games = pd.read_csv('nba_games/games.csv')\n",
    "df_combo = pd.merge(game_details, games, on=[\"GAME_ID\", \"GAME_ID\"])\n",
    "# df_combo.head()\n",
    "# for col in df_combo.columns:\n",
    "#     print(col)"
   ]
  },
  {
   "cell_type": "code",
   "execution_count": 3,
   "metadata": {},
   "outputs": [
    {
     "data": {
      "text/plain": [
       "2021"
      ]
     },
     "execution_count": 3,
     "metadata": {},
     "output_type": "execute_result"
    }
   ],
   "source": [
    "df_combo = df_combo[df_combo['SEASON'] > 2020]\n",
    "df_combo['GAME_DATE_EST'] = pd.to_datetime(df_combo['GAME_DATE_EST'])\n",
    "df_combo.SEASON.min()"
   ]
  },
  {
   "attachments": {},
   "cell_type": "markdown",
   "metadata": {},
   "source": [
    "Check for nulls and find minimum number of players per team"
   ]
  },
  {
   "cell_type": "code",
   "execution_count": 4,
   "metadata": {},
   "outputs": [
    {
     "name": "stdout",
     "output_type": "stream",
     "text": [
      "Empty DataFrame\n",
      "Columns: [(PLAYER_ID, count)]\n",
      "Index: []\n",
      "PLAYER_ID  count    9\n",
      "dtype: int64\n"
     ]
    }
   ],
   "source": [
    "player_teams_df = df_combo.groupby(['GAME_ID', 'TEAM_ID']).agg({'PLAYER_ID': ['count']})\n",
    "print(player_teams_df[player_teams_df.isnull().any(axis=1)])\n",
    "print(player_teams_df.min())\n"
   ]
  },
  {
   "cell_type": "code",
   "execution_count": 5,
   "metadata": {},
   "outputs": [],
   "source": [
    "for idx, row in df_combo.iterrows():\n",
    "    # df_filtered.loc[idx, 'DAY_OF_YEAR'] = row['GAME_DATE_EST'].timetuple().tm_yday\n",
    "    df_combo.loc[idx, 'WEEK_OF_YEAR'] = row['GAME_DATE_EST'].isocalendar().week"
   ]
  },
  {
   "cell_type": "code",
   "execution_count": 6,
   "metadata": {},
   "outputs": [
    {
     "data": {
      "text/html": [
       "<div>\n",
       "<style scoped>\n",
       "    .dataframe tbody tr th:only-of-type {\n",
       "        vertical-align: middle;\n",
       "    }\n",
       "\n",
       "    .dataframe tbody tr th {\n",
       "        vertical-align: top;\n",
       "    }\n",
       "\n",
       "    .dataframe thead th {\n",
       "        text-align: right;\n",
       "    }\n",
       "</style>\n",
       "<table border=\"1\" class=\"dataframe\">\n",
       "  <thead>\n",
       "    <tr style=\"text-align: right;\">\n",
       "      <th></th>\n",
       "      <th>HOME_TEAM_ID</th>\n",
       "      <th>VISITOR_TEAM_ID</th>\n",
       "      <th>PLAYER_ID</th>\n",
       "      <th>WEEK_OF_YEAR</th>\n",
       "      <th>HOME_TEAM_WINS</th>\n",
       "    </tr>\n",
       "  </thead>\n",
       "  <tbody>\n",
       "    <tr>\n",
       "      <th>0</th>\n",
       "      <td>1610612740</td>\n",
       "      <td>1610612759</td>\n",
       "      <td>1629641</td>\n",
       "      <td>51.0</td>\n",
       "      <td>1</td>\n",
       "    </tr>\n",
       "    <tr>\n",
       "      <th>1</th>\n",
       "      <td>1610612740</td>\n",
       "      <td>1610612759</td>\n",
       "      <td>1631110</td>\n",
       "      <td>51.0</td>\n",
       "      <td>1</td>\n",
       "    </tr>\n",
       "    <tr>\n",
       "      <th>2</th>\n",
       "      <td>1610612740</td>\n",
       "      <td>1610612759</td>\n",
       "      <td>1627751</td>\n",
       "      <td>51.0</td>\n",
       "      <td>1</td>\n",
       "    </tr>\n",
       "    <tr>\n",
       "      <th>3</th>\n",
       "      <td>1610612740</td>\n",
       "      <td>1610612759</td>\n",
       "      <td>1630170</td>\n",
       "      <td>51.0</td>\n",
       "      <td>1</td>\n",
       "    </tr>\n",
       "    <tr>\n",
       "      <th>4</th>\n",
       "      <td>1610612740</td>\n",
       "      <td>1610612759</td>\n",
       "      <td>1630200</td>\n",
       "      <td>51.0</td>\n",
       "      <td>1</td>\n",
       "    </tr>\n",
       "  </tbody>\n",
       "</table>\n",
       "</div>"
      ],
      "text/plain": [
       "   HOME_TEAM_ID  VISITOR_TEAM_ID  PLAYER_ID  WEEK_OF_YEAR  HOME_TEAM_WINS\n",
       "0    1610612740       1610612759    1629641          51.0               1\n",
       "1    1610612740       1610612759    1631110          51.0               1\n",
       "2    1610612740       1610612759    1627751          51.0               1\n",
       "3    1610612740       1610612759    1630170          51.0               1\n",
       "4    1610612740       1610612759    1630200          51.0               1"
      ]
     },
     "execution_count": 6,
     "metadata": {},
     "output_type": "execute_result"
    }
   ],
   "source": [
    "df_combo = df_combo[['HOME_TEAM_ID', 'VISITOR_TEAM_ID', 'PLAYER_ID', 'WEEK_OF_YEAR', 'HOME_TEAM_WINS']]\n",
    "df_combo.head()\n"
   ]
  },
  {
   "cell_type": "code",
   "execution_count": 7,
   "metadata": {},
   "outputs": [],
   "source": [
    "df_combo.to_csv(\"player_teams.csv\")"
   ]
  },
  {
   "cell_type": "code",
   "execution_count": null,
   "metadata": {},
   "outputs": [],
   "source": []
  }
 ],
 "metadata": {
  "kernelspec": {
   "display_name": "base",
   "language": "python",
   "name": "python3"
  },
  "language_info": {
   "codemirror_mode": {
    "name": "ipython",
    "version": 3
   },
   "file_extension": ".py",
   "mimetype": "text/x-python",
   "name": "python",
   "nbconvert_exporter": "python",
   "pygments_lexer": "ipython3",
   "version": "3.9.16"
  },
  "orig_nbformat": 4
 },
 "nbformat": 4,
 "nbformat_minor": 2
}
