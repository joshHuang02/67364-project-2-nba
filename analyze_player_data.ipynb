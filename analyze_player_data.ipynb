{
 "cells": [
  {
   "cell_type": "code",
   "execution_count": 1,
   "metadata": {},
   "outputs": [],
   "source": [
    "import pandas as pd"
   ]
  },
  {
   "cell_type": "code",
   "execution_count": 2,
   "metadata": {},
   "outputs": [],
   "source": [
    "games = pd.read_csv('nba_games/games.csv')\n",
    "\n",
    "games = games[games['SEASON'] > 2020]\n",
    "games['GAME_DATE_EST'] = pd.to_datetime(games['GAME_DATE_EST'])\n",
    "\n",
    "for idx, row in games.iterrows():\n",
    "    games.loc[idx, 'DAY'] = row['GAME_DATE_EST'].timetuple().tm_yday\n",
    "    games.loc[idx, 'WEEK'] = row['GAME_DATE_EST'].isocalendar().week\n",
    "    games.loc[idx, 'MONTH'] = row['GAME_DATE_EST'].month\n"
   ]
  },
  {
   "cell_type": "code",
   "execution_count": 3,
   "metadata": {},
   "outputs": [
    {
     "name": "stderr",
     "output_type": "stream",
     "text": [
      "/var/folders/j4/xht4swnx3v38mbt0w75bjqs40000gn/T/ipykernel_69004/3113203320.py:1: DtypeWarning: Columns (6) have mixed types. Specify dtype option on import or set low_memory=False.\n",
      "  game_details = pd.read_csv('nba_games/games_details.csv')\n"
     ]
    }
   ],
   "source": [
    "game_details = pd.read_csv('nba_games/games_details.csv')\n",
    "df_home = pd.merge(game_details, games, left_on=[\"GAME_ID\", \"TEAM_ID\"], right_on=['GAME_ID', \"HOME_TEAM_ID\"], how=\"inner\")\n",
    "df_visit = pd.merge(game_details, games, left_on=[\"GAME_ID\", \"TEAM_ID\"], right_on=['GAME_ID', \"VISITOR_TEAM_ID\"], how=\"inner\")"
   ]
  },
  {
   "attachments": {},
   "cell_type": "markdown",
   "metadata": {},
   "source": [
    "Check for nulls and find minimum number of players per team, minimum number of players to start a NBA game is 9"
   ]
  },
  {
   "cell_type": "code",
   "execution_count": 4,
   "metadata": {},
   "outputs": [
    {
     "name": "stdout",
     "output_type": "stream",
     "text": [
      "Empty DataFrame\n",
      "Columns: [(PLAYER_ID, count)]\n",
      "Index: []\n",
      "PLAYER_ID  count    10\n",
      "dtype: int64\n",
      "Empty DataFrame\n",
      "Columns: [(PLAYER_ID, count)]\n",
      "Index: []\n",
      "PLAYER_ID  count    9\n",
      "dtype: int64\n"
     ]
    }
   ],
   "source": [
    "player_teams_df = df_home.groupby(['GAME_ID', 'TEAM_ID']).agg({'PLAYER_ID': ['count']})\n",
    "print(player_teams_df[player_teams_df.isnull().any(axis=1)])\n",
    "print(player_teams_df.min())\n",
    "\n",
    "player_teams_df = df_visit.groupby(['GAME_ID', 'TEAM_ID']).agg({'PLAYER_ID': ['count']})\n",
    "print(player_teams_df[player_teams_df.isnull().any(axis=1)])\n",
    "print(player_teams_df.min())\n"
   ]
  },
  {
   "cell_type": "code",
   "execution_count": 5,
   "metadata": {},
   "outputs": [],
   "source": [
    "def calculate_seconds_played(df):\n",
    "    for idx, row in df.iterrows():\n",
    "        minutes = row['MIN']\n",
    "        seconds = 0\n",
    "        if (isinstance(minutes, str)):\n",
    "            m, s = minutes.split(\":\")\n",
    "            seconds = int(float(m) * 60 + float(s))\n",
    "        df.loc[idx, 'SEC'] = seconds\n",
    "    return df\n",
    "\n",
    "df_home = calculate_seconds_played(df_home)\n",
    "df_visit = calculate_seconds_played(df_visit)\n"
   ]
  },
  {
   "cell_type": "code",
   "execution_count": 6,
   "metadata": {},
   "outputs": [],
   "source": [
    "df_home = df_home[['GAME_ID', 'HOME_TEAM_ID', 'PLAYER_ID', 'SEC']]\n",
    "df_visit = df_visit[['GAME_ID', 'VISITOR_TEAM_ID', 'PLAYER_ID', 'SEC']]\n"
   ]
  },
  {
   "cell_type": "code",
   "execution_count": 7,
   "metadata": {},
   "outputs": [],
   "source": [
    "def pivot_players(df, home):\n",
    "    gb = df.groupby(['GAME_ID', f\"{home}_TEAM_ID\"])\n",
    "    game_teams = [gb.get_group(x) for x in gb.groups]\n",
    "    \n",
    "    df_pivoted = pd.DataFrame()\n",
    "    \n",
    "    for x in game_teams:\n",
    "        tmp = x.nlargest(9, 'SEC')\n",
    "        num = 1\n",
    "        for idx, row in tmp.iterrows():\n",
    "            tmp.loc[idx, 'SEC'] = f\"{home}_P{num}\"\n",
    "            num += 1\n",
    "            \n",
    "        tmp.rename(columns={'SEC':'NUM'}, inplace=True)\n",
    "        tmp = pd.pivot_table(tmp, index=['GAME_ID', f\"{home}_TEAM_ID\"], columns='NUM', values='PLAYER_ID', aggfunc= lambda r:r)\n",
    "        df_pivoted = pd.concat([df_pivoted, tmp])\n",
    "    \n",
    "    return df_pivoted\n",
    "    \n",
    "df_home_pivoted = pivot_players(df_home, \"HOME\")\n",
    "df_visit_pivoted = pivot_players(df_visit, \"VISITOR\")"
   ]
  },
  {
   "cell_type": "code",
   "execution_count": null,
   "metadata": {},
   "outputs": [],
   "source": [
    "df_visit_pivoted.to_csv(\"visit_pivoted.csv\")\n",
    "df_home_pivoted.to_csv(\"home_pivoted.csv\")"
   ]
  },
  {
   "cell_type": "code",
   "execution_count": null,
   "metadata": {},
   "outputs": [],
   "source": [
    "home = pd.read_csv(\"home_pivoted.csv\")\n",
    "visit = pd.read_csv(\"visit_pivoted.csv\")\n",
    "games_filter = games[['GAME_ID', 'DAY', 'WEEK', 'MONTH', 'HOME_TEAM_WINS']]\n",
    "\n",
    "df_data = pd.merge(home, visit, on=['GAME_ID'], how='outer')\n",
    "df_data = pd.merge(df_data, games_filter, on='GAME_ID')"
   ]
  },
  {
   "cell_type": "code",
   "execution_count": null,
   "metadata": {},
   "outputs": [],
   "source": [
    "df_data.to_csv(\"processed.csv\")"
   ]
  }
 ],
 "metadata": {
  "kernelspec": {
   "display_name": "base",
   "language": "python",
   "name": "python3"
  },
  "language_info": {
   "codemirror_mode": {
    "name": "ipython",
    "version": 3
   },
   "file_extension": ".py",
   "mimetype": "text/x-python",
   "name": "python",
   "nbconvert_exporter": "python",
   "pygments_lexer": "ipython3",
   "version": "3.9.16"
  },
  "orig_nbformat": 4
 },
 "nbformat": 4,
 "nbformat_minor": 2
}
