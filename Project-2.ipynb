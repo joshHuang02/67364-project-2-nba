{
 "cells": [
  {
   "attachments": {},
   "cell_type": "markdown",
   "metadata": {},
   "source": [
    "Business case:\n",
    "Sports betting is a growing industry, and there is large amounts of money flowing around. This model attempts to predict which team would win in an NBA game and provide an upperhand to the \"house\", or the sports betting company. "
   ]
  },
  {
   "attachments": {},
   "cell_type": "markdown",
   "metadata": {},
   "source": [
    "<h1>Data Processing</h1>"
   ]
  },
  {
   "attachments": {},
   "cell_type": "markdown",
   "metadata": {},
   "source": [
    "Imports"
   ]
  },
  {
   "cell_type": "code",
   "execution_count": 1,
   "metadata": {},
   "outputs": [],
   "source": [
    "import pandas as pd"
   ]
  },
  {
   "attachments": {},
   "cell_type": "markdown",
   "metadata": {},
   "source": [
    "Read games data"
   ]
  },
  {
   "cell_type": "code",
   "execution_count": 2,
   "metadata": {},
   "outputs": [],
   "source": [
    "games = pd.read_csv('nba_games/games.csv')\n",
    "\n",
    "# filter to the last 2 seasons\n",
    "games = games[games['SEASON'] > 2020]\n",
    "games['GAME_DATE_EST'] = pd.to_datetime(games['GAME_DATE_EST'])\n",
    "\n",
    "# build day of year, week of year, and month of year\n",
    "for idx, row in games.iterrows():\n",
    "    games.loc[idx, 'DAY'] = row['GAME_DATE_EST'].timetuple().tm_yday\n",
    "    games.loc[idx, 'WEEK'] = row['GAME_DATE_EST'].isocalendar().week\n",
    "    games.loc[idx, 'MONTH'] = row['GAME_DATE_EST'].month\n"
   ]
  },
  {
   "attachments": {},
   "cell_type": "markdown",
   "metadata": {},
   "source": [
    "Read game details set and merge with games set. Define separaet dfs for home team and visiting team"
   ]
  },
  {
   "cell_type": "code",
   "execution_count": 3,
   "metadata": {},
   "outputs": [
    {
     "name": "stderr",
     "output_type": "stream",
     "text": [
      "/var/folders/j4/xht4swnx3v38mbt0w75bjqs40000gn/T/ipykernel_79607/3113203320.py:1: DtypeWarning: Columns (6) have mixed types. Specify dtype option on import or set low_memory=False.\n",
      "  game_details = pd.read_csv('nba_games/games_details.csv')\n"
     ]
    }
   ],
   "source": [
    "game_details = pd.read_csv('nba_games/games_details.csv')\n",
    "df_home = pd.merge(game_details, games, left_on=[\"GAME_ID\", \"TEAM_ID\"], right_on=['GAME_ID', \"HOME_TEAM_ID\"], how=\"inner\")\n",
    "df_visit = pd.merge(game_details, games, left_on=[\"GAME_ID\", \"TEAM_ID\"], right_on=['GAME_ID', \"VISITOR_TEAM_ID\"], how=\"inner\")"
   ]
  },
  {
   "attachments": {},
   "cell_type": "markdown",
   "metadata": {},
   "source": [
    "Check for nulls and find minimum number of players per team, minimum number of players to start a NBA game is 9"
   ]
  },
  {
   "cell_type": "code",
   "execution_count": 4,
   "metadata": {},
   "outputs": [
    {
     "name": "stdout",
     "output_type": "stream",
     "text": [
      "Empty DataFrame\n",
      "Columns: [(PLAYER_ID, count)]\n",
      "Index: []\n",
      "PLAYER_ID  count    10\n",
      "dtype: int64\n",
      "Empty DataFrame\n",
      "Columns: [(PLAYER_ID, count)]\n",
      "Index: []\n",
      "PLAYER_ID  count    9\n",
      "dtype: int64\n"
     ]
    }
   ],
   "source": [
    "player_teams_df = df_home.groupby(['GAME_ID', 'TEAM_ID']).agg({'PLAYER_ID': ['count']})\n",
    "print(player_teams_df[player_teams_df.isnull().any(axis=1)])\n",
    "print(player_teams_df.min())\n",
    "\n",
    "player_teams_df = df_visit.groupby(['GAME_ID', 'TEAM_ID']).agg({'PLAYER_ID': ['count']})\n",
    "print(player_teams_df[player_teams_df.isnull().any(axis=1)])\n",
    "print(player_teams_df.min())\n"
   ]
  },
  {
   "attachments": {},
   "cell_type": "markdown",
   "metadata": {},
   "source": [
    "Calculate seconds played per player per game per team.\n",
    "Not using score because some players are important to the game through assists and such instead of scoring"
   ]
  },
  {
   "cell_type": "code",
   "execution_count": 5,
   "metadata": {},
   "outputs": [],
   "source": [
    "def calculate_seconds_played(df):\n",
    "    for idx, row in df.iterrows():\n",
    "        minutes = row['MIN']\n",
    "        seconds = 0\n",
    "        if (isinstance(minutes, str)):\n",
    "            m, s = minutes.split(\":\")\n",
    "            seconds = int(float(m) * 60 + float(s))\n",
    "        df.loc[idx, 'SEC'] = seconds\n",
    "    return df\n",
    "\n",
    "df_home = calculate_seconds_played(df_home)\n",
    "df_visit = calculate_seconds_played(df_visit)\n"
   ]
  },
  {
   "attachments": {},
   "cell_type": "markdown",
   "metadata": {},
   "source": [
    "Filter dataset features"
   ]
  },
  {
   "cell_type": "code",
   "execution_count": 6,
   "metadata": {},
   "outputs": [],
   "source": [
    "df_home = df_home[['GAME_ID', 'HOME_TEAM_ID', 'PLAYER_ID', 'SEC']]\n",
    "df_visit = df_visit[['GAME_ID', 'VISITOR_TEAM_ID', 'PLAYER_ID', 'SEC']]\n"
   ]
  },
  {
   "attachments": {},
   "cell_type": "markdown",
   "metadata": {},
   "source": [
    "Pivot player IDs into rows"
   ]
  },
  {
   "cell_type": "code",
   "execution_count": 7,
   "metadata": {},
   "outputs": [],
   "source": [
    "def pivot_players(df, home):\n",
    "    gb = df.groupby(['GAME_ID', f\"{home}_TEAM_ID\"])\n",
    "    game_teams = [gb.get_group(x) for x in gb.groups]\n",
    "    \n",
    "    df_pivoted = pd.DataFrame()\n",
    "    \n",
    "    for x in game_teams:\n",
    "        tmp = x.nlargest(9, 'SEC')\n",
    "        num = 1\n",
    "        for idx, row in tmp.iterrows():\n",
    "            tmp.loc[idx, 'SEC'] = f\"{home}_P{num}\"\n",
    "            num += 1\n",
    "            \n",
    "        tmp.rename(columns={'SEC':'NUM'}, inplace=True)\n",
    "        tmp = pd.pivot_table(tmp, index=['GAME_ID', f\"{home}_TEAM_ID\"], columns='NUM', values='PLAYER_ID', aggfunc= lambda r:r)\n",
    "        df_pivoted = pd.concat([df_pivoted, tmp])\n",
    "    \n",
    "    return df_pivoted\n",
    "    \n",
    "df_home_pivoted = pivot_players(df_home, \"HOME\")\n",
    "df_visit_pivoted = pivot_players(df_visit, \"VISITOR\")"
   ]
  },
  {
   "attachments": {},
   "cell_type": "markdown",
   "metadata": {},
   "source": [
    "Save pivoted data"
   ]
  },
  {
   "cell_type": "code",
   "execution_count": 8,
   "metadata": {},
   "outputs": [],
   "source": [
    "df_visit_pivoted.to_csv(\"visit_pivoted.csv\")\n",
    "df_home_pivoted.to_csv(\"home_pivoted.csv\")"
   ]
  },
  {
   "attachments": {},
   "cell_type": "markdown",
   "metadata": {},
   "source": [
    "Merge team sets and also merge game info like data and who won"
   ]
  },
  {
   "cell_type": "code",
   "execution_count": 9,
   "metadata": {},
   "outputs": [],
   "source": [
    "home = pd.read_csv(\"home_pivoted.csv\")\n",
    "visit = pd.read_csv(\"visit_pivoted.csv\")\n",
    "\n",
    "games_filter = games[['GAME_ID', 'DAY', 'WEEK', 'MONTH', 'HOME_TEAM_WINS']]\n",
    "\n",
    "df_data = pd.merge(home, visit, on=['GAME_ID'], how='outer')\n",
    "df_data = pd.merge(df_data, games_filter, on='GAME_ID')"
   ]
  },
  {
   "attachments": {},
   "cell_type": "markdown",
   "metadata": {},
   "source": [
    "Save final processed data"
   ]
  },
  {
   "cell_type": "code",
   "execution_count": 10,
   "metadata": {},
   "outputs": [],
   "source": [
    "df_data.to_csv(\"processed.csv\")"
   ]
  },
  {
   "attachments": {},
   "cell_type": "markdown",
   "metadata": {},
   "source": [
    "<h1>Pipeline and Parameter Tuning</h1>"
   ]
  },
  {
   "cell_type": "markdown",
   "metadata": {},
   "source": [
    "Imports"
   ]
  },
  {
   "cell_type": "code",
   "execution_count": 11,
   "metadata": {},
   "outputs": [],
   "source": [
    "from sklearn.model_selection import GridSearchCV\n",
    "from sklearn.ensemble import RandomForestClassifier\n",
    "from sklearn.model_selection import train_test_split\n",
    "from sklearn.pipeline import Pipeline\n",
    "\n",
    "from sklearn.preprocessing import OneHotEncoder\n",
    "from sklearn.linear_model import LogisticRegression\n",
    "\n",
    "\n",
    "from sklearn.compose import ColumnTransformer\n",
    "from sklearn.ensemble import RandomForestClassifier\n",
    "from sklearn.pipeline import Pipeline\n",
    "from sklearn.impute import SimpleImputer\n",
    "from sklearn.preprocessing import StandardScaler, OneHotEncoder\n",
    "from sklearn.linear_model import LogisticRegression\n",
    "from sklearn.model_selection import train_test_split, GridSearchCV\n",
    "from sklearn.ensemble import RandomForestClassifier\n",
    "\n",
    "import pandas as pd \n",
    "import os\n"
   ]
  },
  {
   "cell_type": "markdown",
   "metadata": {},
   "source": [
    "Various ways to ignore warnings that clog up the output"
   ]
  },
  {
   "cell_type": "code",
   "execution_count": 12,
   "metadata": {},
   "outputs": [],
   "source": [
    "import warnings\n",
    "warnings.filterwarnings('ignore') \n",
    "os.environ['PYTHONWARNINGS']='ignore'\n",
    "\n",
    "def warn(*args, **kwargs):\n",
    "    pass\n",
    "import warnings\n",
    "warnings.warn = warn"
   ]
  },
  {
   "cell_type": "markdown",
   "metadata": {},
   "source": [
    "Read preprocessed data, setup numerical and categorical features and transformers, then build pipeline"
   ]
  },
  {
   "cell_type": "code",
   "execution_count": 13,
   "metadata": {},
   "outputs": [
    {
     "data": {
      "text/html": [
       "<style>#sk-container-id-1 {color: black;background-color: white;}#sk-container-id-1 pre{padding: 0;}#sk-container-id-1 div.sk-toggleable {background-color: white;}#sk-container-id-1 label.sk-toggleable__label {cursor: pointer;display: block;width: 100%;margin-bottom: 0;padding: 0.3em;box-sizing: border-box;text-align: center;}#sk-container-id-1 label.sk-toggleable__label-arrow:before {content: \"▸\";float: left;margin-right: 0.25em;color: #696969;}#sk-container-id-1 label.sk-toggleable__label-arrow:hover:before {color: black;}#sk-container-id-1 div.sk-estimator:hover label.sk-toggleable__label-arrow:before {color: black;}#sk-container-id-1 div.sk-toggleable__content {max-height: 0;max-width: 0;overflow: hidden;text-align: left;background-color: #f0f8ff;}#sk-container-id-1 div.sk-toggleable__content pre {margin: 0.2em;color: black;border-radius: 0.25em;background-color: #f0f8ff;}#sk-container-id-1 input.sk-toggleable__control:checked~div.sk-toggleable__content {max-height: 200px;max-width: 100%;overflow: auto;}#sk-container-id-1 input.sk-toggleable__control:checked~label.sk-toggleable__label-arrow:before {content: \"▾\";}#sk-container-id-1 div.sk-estimator input.sk-toggleable__control:checked~label.sk-toggleable__label {background-color: #d4ebff;}#sk-container-id-1 div.sk-label input.sk-toggleable__control:checked~label.sk-toggleable__label {background-color: #d4ebff;}#sk-container-id-1 input.sk-hidden--visually {border: 0;clip: rect(1px 1px 1px 1px);clip: rect(1px, 1px, 1px, 1px);height: 1px;margin: -1px;overflow: hidden;padding: 0;position: absolute;width: 1px;}#sk-container-id-1 div.sk-estimator {font-family: monospace;background-color: #f0f8ff;border: 1px dotted black;border-radius: 0.25em;box-sizing: border-box;margin-bottom: 0.5em;}#sk-container-id-1 div.sk-estimator:hover {background-color: #d4ebff;}#sk-container-id-1 div.sk-parallel-item::after {content: \"\";width: 100%;border-bottom: 1px solid gray;flex-grow: 1;}#sk-container-id-1 div.sk-label:hover label.sk-toggleable__label {background-color: #d4ebff;}#sk-container-id-1 div.sk-serial::before {content: \"\";position: absolute;border-left: 1px solid gray;box-sizing: border-box;top: 0;bottom: 0;left: 50%;z-index: 0;}#sk-container-id-1 div.sk-serial {display: flex;flex-direction: column;align-items: center;background-color: white;padding-right: 0.2em;padding-left: 0.2em;position: relative;}#sk-container-id-1 div.sk-item {position: relative;z-index: 1;}#sk-container-id-1 div.sk-parallel {display: flex;align-items: stretch;justify-content: center;background-color: white;position: relative;}#sk-container-id-1 div.sk-item::before, #sk-container-id-1 div.sk-parallel-item::before {content: \"\";position: absolute;border-left: 1px solid gray;box-sizing: border-box;top: 0;bottom: 0;left: 50%;z-index: -1;}#sk-container-id-1 div.sk-parallel-item {display: flex;flex-direction: column;z-index: 1;position: relative;background-color: white;}#sk-container-id-1 div.sk-parallel-item:first-child::after {align-self: flex-end;width: 50%;}#sk-container-id-1 div.sk-parallel-item:last-child::after {align-self: flex-start;width: 50%;}#sk-container-id-1 div.sk-parallel-item:only-child::after {width: 0;}#sk-container-id-1 div.sk-dashed-wrapped {border: 1px dashed gray;margin: 0 0.4em 0.5em 0.4em;box-sizing: border-box;padding-bottom: 0.4em;background-color: white;}#sk-container-id-1 div.sk-label label {font-family: monospace;font-weight: bold;display: inline-block;line-height: 1.2em;}#sk-container-id-1 div.sk-label-container {text-align: center;}#sk-container-id-1 div.sk-container {/* jupyter's `normalize.less` sets `[hidden] { display: none; }` but bootstrap.min.css set `[hidden] { display: none !important; }` so we also need the `!important` here to be able to override the default hidden behavior on the sphinx rendered scikit-learn.org. See: https://github.com/scikit-learn/scikit-learn/issues/21755 */display: inline-block !important;position: relative;}#sk-container-id-1 div.sk-text-repr-fallback {display: none;}</style><div id=\"sk-container-id-1\" class=\"sk-top-container\"><div class=\"sk-text-repr-fallback\"><pre>Pipeline(steps=[(&#x27;preprocesser&#x27;,\n",
       "                 ColumnTransformer(transformers=[(&#x27;num_transform&#x27;,\n",
       "                                                  Pipeline(steps=[(&#x27;imputer&#x27;,\n",
       "                                                                   SimpleImputer()),\n",
       "                                                                  (&#x27;scaler&#x27;,\n",
       "                                                                   StandardScaler())]),\n",
       "                                                  [&#x27;WEEK&#x27;]),\n",
       "                                                 (&#x27;cat_transform&#x27;,\n",
       "                                                  OneHotEncoder(handle_unknown=&#x27;ignore&#x27;),\n",
       "                                                  [&#x27;GAME_ID&#x27;, &#x27;HOME_TEAM_ID&#x27;,\n",
       "                                                   &#x27;VISITOR_TEAM_ID&#x27;])])),\n",
       "                (&#x27;classifier&#x27;, LogisticRegression())])</pre><b>In a Jupyter environment, please rerun this cell to show the HTML representation or trust the notebook. <br />On GitHub, the HTML representation is unable to render, please try loading this page with nbviewer.org.</b></div><div class=\"sk-container\" hidden><div class=\"sk-item sk-dashed-wrapped\"><div class=\"sk-label-container\"><div class=\"sk-label sk-toggleable\"><input class=\"sk-toggleable__control sk-hidden--visually\" id=\"sk-estimator-id-1\" type=\"checkbox\" ><label for=\"sk-estimator-id-1\" class=\"sk-toggleable__label sk-toggleable__label-arrow\">Pipeline</label><div class=\"sk-toggleable__content\"><pre>Pipeline(steps=[(&#x27;preprocesser&#x27;,\n",
       "                 ColumnTransformer(transformers=[(&#x27;num_transform&#x27;,\n",
       "                                                  Pipeline(steps=[(&#x27;imputer&#x27;,\n",
       "                                                                   SimpleImputer()),\n",
       "                                                                  (&#x27;scaler&#x27;,\n",
       "                                                                   StandardScaler())]),\n",
       "                                                  [&#x27;WEEK&#x27;]),\n",
       "                                                 (&#x27;cat_transform&#x27;,\n",
       "                                                  OneHotEncoder(handle_unknown=&#x27;ignore&#x27;),\n",
       "                                                  [&#x27;GAME_ID&#x27;, &#x27;HOME_TEAM_ID&#x27;,\n",
       "                                                   &#x27;VISITOR_TEAM_ID&#x27;])])),\n",
       "                (&#x27;classifier&#x27;, LogisticRegression())])</pre></div></div></div><div class=\"sk-serial\"><div class=\"sk-item sk-dashed-wrapped\"><div class=\"sk-label-container\"><div class=\"sk-label sk-toggleable\"><input class=\"sk-toggleable__control sk-hidden--visually\" id=\"sk-estimator-id-2\" type=\"checkbox\" ><label for=\"sk-estimator-id-2\" class=\"sk-toggleable__label sk-toggleable__label-arrow\">preprocesser: ColumnTransformer</label><div class=\"sk-toggleable__content\"><pre>ColumnTransformer(transformers=[(&#x27;num_transform&#x27;,\n",
       "                                 Pipeline(steps=[(&#x27;imputer&#x27;, SimpleImputer()),\n",
       "                                                 (&#x27;scaler&#x27;, StandardScaler())]),\n",
       "                                 [&#x27;WEEK&#x27;]),\n",
       "                                (&#x27;cat_transform&#x27;,\n",
       "                                 OneHotEncoder(handle_unknown=&#x27;ignore&#x27;),\n",
       "                                 [&#x27;GAME_ID&#x27;, &#x27;HOME_TEAM_ID&#x27;,\n",
       "                                  &#x27;VISITOR_TEAM_ID&#x27;])])</pre></div></div></div><div class=\"sk-parallel\"><div class=\"sk-parallel-item\"><div class=\"sk-item\"><div class=\"sk-label-container\"><div class=\"sk-label sk-toggleable\"><input class=\"sk-toggleable__control sk-hidden--visually\" id=\"sk-estimator-id-3\" type=\"checkbox\" ><label for=\"sk-estimator-id-3\" class=\"sk-toggleable__label sk-toggleable__label-arrow\">num_transform</label><div class=\"sk-toggleable__content\"><pre>[&#x27;WEEK&#x27;]</pre></div></div></div><div class=\"sk-serial\"><div class=\"sk-item\"><div class=\"sk-serial\"><div class=\"sk-item\"><div class=\"sk-estimator sk-toggleable\"><input class=\"sk-toggleable__control sk-hidden--visually\" id=\"sk-estimator-id-4\" type=\"checkbox\" ><label for=\"sk-estimator-id-4\" class=\"sk-toggleable__label sk-toggleable__label-arrow\">SimpleImputer</label><div class=\"sk-toggleable__content\"><pre>SimpleImputer()</pre></div></div></div><div class=\"sk-item\"><div class=\"sk-estimator sk-toggleable\"><input class=\"sk-toggleable__control sk-hidden--visually\" id=\"sk-estimator-id-5\" type=\"checkbox\" ><label for=\"sk-estimator-id-5\" class=\"sk-toggleable__label sk-toggleable__label-arrow\">StandardScaler</label><div class=\"sk-toggleable__content\"><pre>StandardScaler()</pre></div></div></div></div></div></div></div></div><div class=\"sk-parallel-item\"><div class=\"sk-item\"><div class=\"sk-label-container\"><div class=\"sk-label sk-toggleable\"><input class=\"sk-toggleable__control sk-hidden--visually\" id=\"sk-estimator-id-6\" type=\"checkbox\" ><label for=\"sk-estimator-id-6\" class=\"sk-toggleable__label sk-toggleable__label-arrow\">cat_transform</label><div class=\"sk-toggleable__content\"><pre>[&#x27;GAME_ID&#x27;, &#x27;HOME_TEAM_ID&#x27;, &#x27;VISITOR_TEAM_ID&#x27;]</pre></div></div></div><div class=\"sk-serial\"><div class=\"sk-item\"><div class=\"sk-estimator sk-toggleable\"><input class=\"sk-toggleable__control sk-hidden--visually\" id=\"sk-estimator-id-7\" type=\"checkbox\" ><label for=\"sk-estimator-id-7\" class=\"sk-toggleable__label sk-toggleable__label-arrow\">OneHotEncoder</label><div class=\"sk-toggleable__content\"><pre>OneHotEncoder(handle_unknown=&#x27;ignore&#x27;)</pre></div></div></div></div></div></div></div></div><div class=\"sk-item\"><div class=\"sk-estimator sk-toggleable\"><input class=\"sk-toggleable__control sk-hidden--visually\" id=\"sk-estimator-id-8\" type=\"checkbox\" ><label for=\"sk-estimator-id-8\" class=\"sk-toggleable__label sk-toggleable__label-arrow\">LogisticRegression</label><div class=\"sk-toggleable__content\"><pre>LogisticRegression()</pre></div></div></div></div></div></div></div>"
      ],
      "text/plain": [
       "Pipeline(steps=[('preprocesser',\n",
       "                 ColumnTransformer(transformers=[('num_transform',\n",
       "                                                  Pipeline(steps=[('imputer',\n",
       "                                                                   SimpleImputer()),\n",
       "                                                                  ('scaler',\n",
       "                                                                   StandardScaler())]),\n",
       "                                                  ['WEEK']),\n",
       "                                                 ('cat_transform',\n",
       "                                                  OneHotEncoder(handle_unknown='ignore'),\n",
       "                                                  ['GAME_ID', 'HOME_TEAM_ID',\n",
       "                                                   'VISITOR_TEAM_ID'])])),\n",
       "                ('classifier', LogisticRegression())])"
      ]
     },
     "execution_count": 13,
     "metadata": {},
     "output_type": "execute_result"
    }
   ],
   "source": [
    "dataframe = pd.read_csv(\"processed.csv\")\n",
    "features = dataframe.columns.to_list()\n",
    "features.remove('Unnamed: 0')\n",
    "features.remove('HOME_TEAM_WINS')\n",
    "\n",
    "data = dataframe.values\n",
    "X = dataframe[features]\n",
    "y = dataframe.HOME_TEAM_WINS\n",
    "\n",
    "numeric_features = ['WEEK'] #week of year\n",
    "numeric_transformer = Pipeline(steps=[\n",
    "    (\"imputer\", SimpleImputer(strategy=\"mean\")),\n",
    "    (\"scaler\", StandardScaler())\n",
    "])\n",
    "\n",
    "categorical_features = ['GAME_ID',\n",
    "            'HOME_TEAM_ID',\n",
    "            # 'HOME_P1',\n",
    "            # 'HOME_P2',\n",
    "            # 'HOME_P3',\n",
    "            # 'HOME_P4',\n",
    "            # 'HOME_P5',\n",
    "            # 'HOME_P6',\n",
    "            # 'HOME_P7',\n",
    "            # 'HOME_P8',\n",
    "            # 'HOME_P9',\n",
    "            'VISITOR_TEAM_ID',\n",
    "            # 'VISITOR_P1',\n",
    "            # 'VISITOR_P2',\n",
    "            # 'VISITOR_P3',\n",
    "            # 'VISITOR_P4',\n",
    "            # 'VISITOR_P5',\n",
    "            # 'VISITOR_P6',\n",
    "            # 'VISITOR_P7',\n",
    "            # 'VISITOR_P8',\n",
    "            # 'VISITOR_P9',\n",
    "            ]\n",
    "categorical_transformer = OneHotEncoder(handle_unknown=\"ignore\")\n",
    "\n",
    "preprocessor = ColumnTransformer(transformers=[\n",
    "    (\"num_transform\", numeric_transformer, numeric_features),\n",
    "    (\"cat_transform\", categorical_transformer, categorical_features)\n",
    "])\n",
    "pipeline = Pipeline(steps=[(\"preprocesser\", preprocessor), (\"classifier\", LogisticRegression())])\n",
    "pipeline\n",
    "\n"
   ]
  },
  {
   "cell_type": "markdown",
   "metadata": {},
   "source": [
    "Split test data and perform base run"
   ]
  },
  {
   "cell_type": "code",
   "execution_count": 14,
   "metadata": {},
   "outputs": [
    {
     "name": "stdout",
     "output_type": "stream",
     "text": [
      "0.6124031007751938\n"
     ]
    }
   ],
   "source": [
    "X_train, X_test, y_train, y_test = train_test_split(X, y, test_size=0.2, random_state=0)\n",
    "pipeline.fit(X_train, y_train)\n",
    "score = pipeline.score(X_test, y_test)\n",
    "print(score)"
   ]
  },
  {
   "cell_type": "markdown",
   "metadata": {},
   "source": [
    "Define parameter grid for grid serach"
   ]
  },
  {
   "cell_type": "code",
   "execution_count": 15,
   "metadata": {},
   "outputs": [],
   "source": [
    "param_grid = [\n",
    "    {\n",
    "        \"preprocesser__num_transform__imputer__strategy\": [\"mean\", \"median\"],\n",
    "        \"classifier__C\": [0.1, 1.0, 10.0, 100.0],\n",
    "        \"classifier\": [LogisticRegression()]\n",
    "    },\n",
    "    {\n",
    "        \"preprocesser__num_transform__imputer__strategy\": [\"mean\", \"median\"],\n",
    "        \"classifier__n_estimators\": [10, 100, 1000],\n",
    "        \"classifier\": [RandomForestClassifier()]\n",
    "    },\n",
    "]"
   ]
  },
  {
   "cell_type": "markdown",
   "metadata": {},
   "source": [
    "Search grid and see best scores!"
   ]
  },
  {
   "cell_type": "code",
   "execution_count": 16,
   "metadata": {},
   "outputs": [
    {
     "name": "stdout",
     "output_type": "stream",
     "text": [
      "Fitting 10 folds for each of 8 candidates, totalling 80 fits\n",
      "Best params:\n",
      "{'classifier': LogisticRegression(C=100.0), 'classifier__C': 100.0, 'preprocesser__num_transform__imputer__strategy': 'mean'}\n",
      "Best score in grid search:\n",
      "0.6334059488898199\n",
      "Best logistic regression from grid search:\n",
      "0.6149870801033591\n",
      "\n",
      "Fitting 10 folds for each of 6 candidates, totalling 60 fits\n",
      "Best params:\n",
      "{'classifier': RandomForestClassifier(), 'classifier__n_estimators': 100, 'preprocesser__num_transform__imputer__strategy': 'median'}\n",
      "Best score in grid search:\n",
      "0.6256933389191454\n",
      "Best logistic regression from grid search:\n",
      "0.6098191214470284\n",
      "\n"
     ]
    }
   ],
   "source": [
    "for classifier in param_grid:\n",
    "    \n",
    "    grid_search = GridSearchCV(pipeline, classifier, cv=10, verbose=1,n_jobs=-1)\n",
    "    grid_search.fit(X_train, y_train)\n",
    "    print(f\"Best params:\")\n",
    "    print(grid_search.best_params_)\n",
    "    print(\"Best score in grid search:\")\n",
    "    print(grid_search.best_score_)\n",
    "    print(\"Best logistic regression from grid search:\")\n",
    "    print(grid_search.score(X_test, y_test))\n",
    "    print()\n",
    "\n",
    "#0.6459948320413437\n",
    "#0.627906976744186"
   ]
  },
  {
   "cell_type": "markdown",
   "metadata": {},
   "source": [
    " Best score we saw was 0.6459948320413437, but usually around 0.627 depending on how the test data was split"
   ]
  }
 ],
 "metadata": {
  "kernelspec": {
   "display_name": "base",
   "language": "python",
   "name": "python3"
  },
  "language_info": {
   "codemirror_mode": {
    "name": "ipython",
    "version": 3
   },
   "file_extension": ".py",
   "mimetype": "text/x-python",
   "name": "python",
   "nbconvert_exporter": "python",
   "pygments_lexer": "ipython3",
   "version": "3.9.16"
  },
  "orig_nbformat": 4
 },
 "nbformat": 4,
 "nbformat_minor": 2
}
